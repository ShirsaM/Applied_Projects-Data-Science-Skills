{
  "metadata": {
    "kernelspec": {
      "language": "python",
      "display_name": "Python 3",
      "name": "python3"
    },
    "language_info": {
      "name": "python",
      "version": "3.7.12",
      "mimetype": "text/x-python",
      "codemirror_mode": {
        "name": "ipython",
        "version": 3
      },
      "pygments_lexer": "ipython3",
      "nbconvert_exporter": "python",
      "file_extension": ".py"
    },
    "colab": {
      "name": "Machine-Learning-prediction-on-iris-dataset.ipynb",
      "provenance": [],
      "include_colab_link": true
    }
  },
  "nbformat_minor": 0,
  "nbformat": 4,
  "cells": [
    {
      "cell_type": "markdown",
      "metadata": {
        "id": "view-in-github",
        "colab_type": "text"
      },
      "source": [
        "<a href=\"https://colab.research.google.com/github/ShirsaM/Kaggle_Applied_Projects-Data-Science/blob/main/Machine_Learning_prediction_on_iris_dataset.ipynb\" target=\"_parent\"><img src=\"https://colab.research.google.com/assets/colab-badge.svg\" alt=\"Open In Colab\"/></a>"
      ]
    },
    {
      "cell_type": "markdown",
      "source": [
        "# IRIS Species- prediction with ML Algorithms (Beginner level)\n",
        "\n",
        "Hello Kagglers\n",
        "\n",
        "This notebook deals with predicting species of IRIS flower using some of the basic and important ML algorithms like K-Nearest Neighbors, Decision Trees, Support Vector Machine and Logistic Regression. \n",
        "\n",
        "The methodologies followed will be as follows:-\n",
        "1. Data Wrangling - clean the data of unecessary columns, drop or replace null entries, process data for analysis.\n",
        "2. Exploratory Data Analysis(EDA) - analyse and visualize relationships between the different features of each of the species in the dataset.\n",
        "3. Modeling & Prediction - use ML algorithms to create models for predicting unknown species and to find model with highest accuracy."
      ],
      "metadata": {
        "id": "sXqAUUz7lTuL"
      }
    },
    {
      "cell_type": "code",
      "source": [
        "# This Python 3 environment comes with many helpful analytics libraries installed\n",
        "# It is defined by the kaggle/python Docker image: https://github.com/kaggle/docker-python\n",
        "# For example, here's several helpful packages to load\n",
        "\n",
        "import numpy as np \n",
        "import pandas as pd \n",
        "import matplotlib.pyplot as plt\n",
        "import seaborn as sns\n",
        "\n",
        "import os\n",
        "for dirname, _, filenames in os.walk('/kaggle/input'):\n",
        "    for filename in filenames:\n",
        "        print(os.path.join(dirname, filename))\n"
      ],
      "metadata": {
        "_uuid": "8f2839f25d086af736a60e9eeb907d3b93b6e0e5",
        "_cell_guid": "b1076dfc-b9ad-4769-8c92-a6c4dae69d19",
        "execution": {
          "iopub.status.busy": "2022-04-16T17:59:40.386833Z",
          "iopub.execute_input": "2022-04-16T17:59:40.387332Z",
          "iopub.status.idle": "2022-04-16T17:59:41.529126Z",
          "shell.execute_reply.started": "2022-04-16T17:59:40.387205Z",
          "shell.execute_reply": "2022-04-16T17:59:41.528139Z"
        },
        "trusted": true,
        "id": "kpJroKB8lTuU"
      },
      "execution_count": 1,
      "outputs": []
    },
    {
      "cell_type": "code",
      "source": [
        "df = pd.read_csv('/content/Iris.csv')\n",
        "df.head()"
      ],
      "metadata": {
        "execution": {
          "iopub.status.busy": "2022-04-16T17:59:41.530573Z",
          "iopub.execute_input": "2022-04-16T17:59:41.530792Z",
          "iopub.status.idle": "2022-04-16T17:59:41.563310Z",
          "shell.execute_reply.started": "2022-04-16T17:59:41.530766Z",
          "shell.execute_reply": "2022-04-16T17:59:41.562454Z"
        },
        "trusted": true,
        "colab": {
          "base_uri": "https://localhost:8080/",
          "height": 206
        },
        "id": "7uxFjbo5lTuX",
        "outputId": "8d3defc8-089d-474d-b2d8-4254a070fdb4"
      },
      "execution_count": 2,
      "outputs": [
        {
          "output_type": "execute_result",
          "data": {
            "text/plain": [
              "   Id  SepalLengthCm  SepalWidthCm  PetalLengthCm  PetalWidthCm      Species\n",
              "0   1            5.1           3.5            1.4           0.2  Iris-setosa\n",
              "1   2            4.9           3.0            1.4           0.2  Iris-setosa\n",
              "2   3            4.7           3.2            1.3           0.2  Iris-setosa\n",
              "3   4            4.6           3.1            1.5           0.2  Iris-setosa\n",
              "4   5            5.0           3.6            1.4           0.2  Iris-setosa"
            ],
            "text/html": [
              "\n",
              "  <div id=\"df-f30cd818-c7e7-45cf-9fef-94236af60c4c\">\n",
              "    <div class=\"colab-df-container\">\n",
              "      <div>\n",
              "<style scoped>\n",
              "    .dataframe tbody tr th:only-of-type {\n",
              "        vertical-align: middle;\n",
              "    }\n",
              "\n",
              "    .dataframe tbody tr th {\n",
              "        vertical-align: top;\n",
              "    }\n",
              "\n",
              "    .dataframe thead th {\n",
              "        text-align: right;\n",
              "    }\n",
              "</style>\n",
              "<table border=\"1\" class=\"dataframe\">\n",
              "  <thead>\n",
              "    <tr style=\"text-align: right;\">\n",
              "      <th></th>\n",
              "      <th>Id</th>\n",
              "      <th>SepalLengthCm</th>\n",
              "      <th>SepalWidthCm</th>\n",
              "      <th>PetalLengthCm</th>\n",
              "      <th>PetalWidthCm</th>\n",
              "      <th>Species</th>\n",
              "    </tr>\n",
              "  </thead>\n",
              "  <tbody>\n",
              "    <tr>\n",
              "      <th>0</th>\n",
              "      <td>1</td>\n",
              "      <td>5.1</td>\n",
              "      <td>3.5</td>\n",
              "      <td>1.4</td>\n",
              "      <td>0.2</td>\n",
              "      <td>Iris-setosa</td>\n",
              "    </tr>\n",
              "    <tr>\n",
              "      <th>1</th>\n",
              "      <td>2</td>\n",
              "      <td>4.9</td>\n",
              "      <td>3.0</td>\n",
              "      <td>1.4</td>\n",
              "      <td>0.2</td>\n",
              "      <td>Iris-setosa</td>\n",
              "    </tr>\n",
              "    <tr>\n",
              "      <th>2</th>\n",
              "      <td>3</td>\n",
              "      <td>4.7</td>\n",
              "      <td>3.2</td>\n",
              "      <td>1.3</td>\n",
              "      <td>0.2</td>\n",
              "      <td>Iris-setosa</td>\n",
              "    </tr>\n",
              "    <tr>\n",
              "      <th>3</th>\n",
              "      <td>4</td>\n",
              "      <td>4.6</td>\n",
              "      <td>3.1</td>\n",
              "      <td>1.5</td>\n",
              "      <td>0.2</td>\n",
              "      <td>Iris-setosa</td>\n",
              "    </tr>\n",
              "    <tr>\n",
              "      <th>4</th>\n",
              "      <td>5</td>\n",
              "      <td>5.0</td>\n",
              "      <td>3.6</td>\n",
              "      <td>1.4</td>\n",
              "      <td>0.2</td>\n",
              "      <td>Iris-setosa</td>\n",
              "    </tr>\n",
              "  </tbody>\n",
              "</table>\n",
              "</div>\n",
              "      <button class=\"colab-df-convert\" onclick=\"convertToInteractive('df-f30cd818-c7e7-45cf-9fef-94236af60c4c')\"\n",
              "              title=\"Convert this dataframe to an interactive table.\"\n",
              "              style=\"display:none;\">\n",
              "        \n",
              "  <svg xmlns=\"http://www.w3.org/2000/svg\" height=\"24px\"viewBox=\"0 0 24 24\"\n",
              "       width=\"24px\">\n",
              "    <path d=\"M0 0h24v24H0V0z\" fill=\"none\"/>\n",
              "    <path d=\"M18.56 5.44l.94 2.06.94-2.06 2.06-.94-2.06-.94-.94-2.06-.94 2.06-2.06.94zm-11 1L8.5 8.5l.94-2.06 2.06-.94-2.06-.94L8.5 2.5l-.94 2.06-2.06.94zm10 10l.94 2.06.94-2.06 2.06-.94-2.06-.94-.94-2.06-.94 2.06-2.06.94z\"/><path d=\"M17.41 7.96l-1.37-1.37c-.4-.4-.92-.59-1.43-.59-.52 0-1.04.2-1.43.59L10.3 9.45l-7.72 7.72c-.78.78-.78 2.05 0 2.83L4 21.41c.39.39.9.59 1.41.59.51 0 1.02-.2 1.41-.59l7.78-7.78 2.81-2.81c.8-.78.8-2.07 0-2.86zM5.41 20L4 18.59l7.72-7.72 1.47 1.35L5.41 20z\"/>\n",
              "  </svg>\n",
              "      </button>\n",
              "      \n",
              "  <style>\n",
              "    .colab-df-container {\n",
              "      display:flex;\n",
              "      flex-wrap:wrap;\n",
              "      gap: 12px;\n",
              "    }\n",
              "\n",
              "    .colab-df-convert {\n",
              "      background-color: #E8F0FE;\n",
              "      border: none;\n",
              "      border-radius: 50%;\n",
              "      cursor: pointer;\n",
              "      display: none;\n",
              "      fill: #1967D2;\n",
              "      height: 32px;\n",
              "      padding: 0 0 0 0;\n",
              "      width: 32px;\n",
              "    }\n",
              "\n",
              "    .colab-df-convert:hover {\n",
              "      background-color: #E2EBFA;\n",
              "      box-shadow: 0px 1px 2px rgba(60, 64, 67, 0.3), 0px 1px 3px 1px rgba(60, 64, 67, 0.15);\n",
              "      fill: #174EA6;\n",
              "    }\n",
              "\n",
              "    [theme=dark] .colab-df-convert {\n",
              "      background-color: #3B4455;\n",
              "      fill: #D2E3FC;\n",
              "    }\n",
              "\n",
              "    [theme=dark] .colab-df-convert:hover {\n",
              "      background-color: #434B5C;\n",
              "      box-shadow: 0px 1px 3px 1px rgba(0, 0, 0, 0.15);\n",
              "      filter: drop-shadow(0px 1px 2px rgba(0, 0, 0, 0.3));\n",
              "      fill: #FFFFFF;\n",
              "    }\n",
              "  </style>\n",
              "\n",
              "      <script>\n",
              "        const buttonEl =\n",
              "          document.querySelector('#df-f30cd818-c7e7-45cf-9fef-94236af60c4c button.colab-df-convert');\n",
              "        buttonEl.style.display =\n",
              "          google.colab.kernel.accessAllowed ? 'block' : 'none';\n",
              "\n",
              "        async function convertToInteractive(key) {\n",
              "          const element = document.querySelector('#df-f30cd818-c7e7-45cf-9fef-94236af60c4c');\n",
              "          const dataTable =\n",
              "            await google.colab.kernel.invokeFunction('convertToInteractive',\n",
              "                                                     [key], {});\n",
              "          if (!dataTable) return;\n",
              "\n",
              "          const docLinkHtml = 'Like what you see? Visit the ' +\n",
              "            '<a target=\"_blank\" href=https://colab.research.google.com/notebooks/data_table.ipynb>data table notebook</a>'\n",
              "            + ' to learn more about interactive tables.';\n",
              "          element.innerHTML = '';\n",
              "          dataTable['output_type'] = 'display_data';\n",
              "          await google.colab.output.renderOutput(dataTable, element);\n",
              "          const docLink = document.createElement('div');\n",
              "          docLink.innerHTML = docLinkHtml;\n",
              "          element.appendChild(docLink);\n",
              "        }\n",
              "      </script>\n",
              "    </div>\n",
              "  </div>\n",
              "  "
            ]
          },
          "metadata": {},
          "execution_count": 2
        }
      ]
    },
    {
      "cell_type": "markdown",
      "source": [
        "### Understanding the Dataset\n",
        "\n",
        "Initially lets understand the number of rows & columns in the data and to find out which columns are not required for further analysis. Also to check for any null entries."
      ],
      "metadata": {
        "id": "s2wxcHjblTuY"
      }
    },
    {
      "cell_type": "code",
      "source": [
        "df.shape   #-------------> attribute to get the dimensions of the data"
      ],
      "metadata": {
        "execution": {
          "iopub.status.busy": "2022-04-16T17:59:41.564434Z",
          "iopub.execute_input": "2022-04-16T17:59:41.564645Z",
          "iopub.status.idle": "2022-04-16T17:59:41.571150Z",
          "shell.execute_reply.started": "2022-04-16T17:59:41.564622Z",
          "shell.execute_reply": "2022-04-16T17:59:41.570375Z"
        },
        "trusted": true,
        "colab": {
          "base_uri": "https://localhost:8080/"
        },
        "id": "3xA-uciMlTuZ",
        "outputId": "63be727a-b44c-414c-f5b5-c20b57137136"
      },
      "execution_count": 3,
      "outputs": [
        {
          "output_type": "execute_result",
          "data": {
            "text/plain": [
              "(150, 6)"
            ]
          },
          "metadata": {},
          "execution_count": 3
        }
      ]
    },
    {
      "cell_type": "code",
      "source": [
        "df.isnull().sum()    #-------------> method to find null values in each column"
      ],
      "metadata": {
        "execution": {
          "iopub.status.busy": "2022-04-16T17:59:41.573026Z",
          "iopub.execute_input": "2022-04-16T17:59:41.573252Z",
          "iopub.status.idle": "2022-04-16T17:59:41.586217Z",
          "shell.execute_reply.started": "2022-04-16T17:59:41.573224Z",
          "shell.execute_reply": "2022-04-16T17:59:41.585524Z"
        },
        "trusted": true,
        "colab": {
          "base_uri": "https://localhost:8080/"
        },
        "id": "3zF5kiFrlTub",
        "outputId": "430985be-fd05-49e6-d0c7-7774df7dfd7e"
      },
      "execution_count": 4,
      "outputs": [
        {
          "output_type": "execute_result",
          "data": {
            "text/plain": [
              "Id               0\n",
              "SepalLengthCm    0\n",
              "SepalWidthCm     0\n",
              "PetalLengthCm    0\n",
              "PetalWidthCm     0\n",
              "Species          0\n",
              "dtype: int64"
            ]
          },
          "metadata": {},
          "execution_count": 4
        }
      ]
    },
    {
      "cell_type": "markdown",
      "source": [
        "#### OR"
      ],
      "metadata": {
        "id": "FyyrFYRUlTuc"
      }
    },
    {
      "cell_type": "code",
      "source": [
        "df.info()    #-------------> method that shows count of null entries and number of rows & columns in data"
      ],
      "metadata": {
        "execution": {
          "iopub.status.busy": "2022-04-16T17:59:41.587753Z",
          "iopub.execute_input": "2022-04-16T17:59:41.588337Z",
          "iopub.status.idle": "2022-04-16T17:59:41.618778Z",
          "shell.execute_reply.started": "2022-04-16T17:59:41.588292Z",
          "shell.execute_reply": "2022-04-16T17:59:41.617790Z"
        },
        "trusted": true,
        "colab": {
          "base_uri": "https://localhost:8080/"
        },
        "id": "c-aCnCbFlTud",
        "outputId": "439ad24d-410b-425a-971d-043cebb09dac"
      },
      "execution_count": 5,
      "outputs": [
        {
          "output_type": "stream",
          "name": "stdout",
          "text": [
            "<class 'pandas.core.frame.DataFrame'>\n",
            "RangeIndex: 150 entries, 0 to 149\n",
            "Data columns (total 6 columns):\n",
            " #   Column         Non-Null Count  Dtype  \n",
            "---  ------         --------------  -----  \n",
            " 0   Id             150 non-null    int64  \n",
            " 1   SepalLengthCm  150 non-null    float64\n",
            " 2   SepalWidthCm   150 non-null    float64\n",
            " 3   PetalLengthCm  150 non-null    float64\n",
            " 4   PetalWidthCm   150 non-null    float64\n",
            " 5   Species        150 non-null    object \n",
            "dtypes: float64(4), int64(1), object(1)\n",
            "memory usage: 7.2+ KB\n"
          ]
        }
      ]
    },
    {
      "cell_type": "markdown",
      "source": [
        "We observe that there are no null values. Now looking at the 6 columns, the 'Id' column can be dropped as it is unecessary. We use the drop() method for this. \n",
        "\n",
        "### Data Cleaning"
      ],
      "metadata": {
        "id": "PxS3OPMmlTuf"
      }
    },
    {
      "cell_type": "code",
      "source": [
        "df.drop('Id' , axis=1, inplace=True)        \n",
        "# As we are dropping a column axis=1 is used and to make the changes on the dataframe set inplace as True.\n",
        "\n",
        "df.head()"
      ],
      "metadata": {
        "execution": {
          "iopub.status.busy": "2022-04-16T17:59:41.620309Z",
          "iopub.execute_input": "2022-04-16T17:59:41.620705Z",
          "iopub.status.idle": "2022-04-16T17:59:41.637389Z",
          "shell.execute_reply.started": "2022-04-16T17:59:41.620651Z",
          "shell.execute_reply": "2022-04-16T17:59:41.636434Z"
        },
        "trusted": true,
        "colab": {
          "base_uri": "https://localhost:8080/",
          "height": 206
        },
        "id": "B2s858a5lTug",
        "outputId": "9293ebcc-6ee9-4ec3-b1a3-0bdcd1fda527"
      },
      "execution_count": 6,
      "outputs": [
        {
          "output_type": "execute_result",
          "data": {
            "text/plain": [
              "   SepalLengthCm  SepalWidthCm  PetalLengthCm  PetalWidthCm      Species\n",
              "0            5.1           3.5            1.4           0.2  Iris-setosa\n",
              "1            4.9           3.0            1.4           0.2  Iris-setosa\n",
              "2            4.7           3.2            1.3           0.2  Iris-setosa\n",
              "3            4.6           3.1            1.5           0.2  Iris-setosa\n",
              "4            5.0           3.6            1.4           0.2  Iris-setosa"
            ],
            "text/html": [
              "\n",
              "  <div id=\"df-a4985a4f-9974-4900-8b71-0684cc7219af\">\n",
              "    <div class=\"colab-df-container\">\n",
              "      <div>\n",
              "<style scoped>\n",
              "    .dataframe tbody tr th:only-of-type {\n",
              "        vertical-align: middle;\n",
              "    }\n",
              "\n",
              "    .dataframe tbody tr th {\n",
              "        vertical-align: top;\n",
              "    }\n",
              "\n",
              "    .dataframe thead th {\n",
              "        text-align: right;\n",
              "    }\n",
              "</style>\n",
              "<table border=\"1\" class=\"dataframe\">\n",
              "  <thead>\n",
              "    <tr style=\"text-align: right;\">\n",
              "      <th></th>\n",
              "      <th>SepalLengthCm</th>\n",
              "      <th>SepalWidthCm</th>\n",
              "      <th>PetalLengthCm</th>\n",
              "      <th>PetalWidthCm</th>\n",
              "      <th>Species</th>\n",
              "    </tr>\n",
              "  </thead>\n",
              "  <tbody>\n",
              "    <tr>\n",
              "      <th>0</th>\n",
              "      <td>5.1</td>\n",
              "      <td>3.5</td>\n",
              "      <td>1.4</td>\n",
              "      <td>0.2</td>\n",
              "      <td>Iris-setosa</td>\n",
              "    </tr>\n",
              "    <tr>\n",
              "      <th>1</th>\n",
              "      <td>4.9</td>\n",
              "      <td>3.0</td>\n",
              "      <td>1.4</td>\n",
              "      <td>0.2</td>\n",
              "      <td>Iris-setosa</td>\n",
              "    </tr>\n",
              "    <tr>\n",
              "      <th>2</th>\n",
              "      <td>4.7</td>\n",
              "      <td>3.2</td>\n",
              "      <td>1.3</td>\n",
              "      <td>0.2</td>\n",
              "      <td>Iris-setosa</td>\n",
              "    </tr>\n",
              "    <tr>\n",
              "      <th>3</th>\n",
              "      <td>4.6</td>\n",
              "      <td>3.1</td>\n",
              "      <td>1.5</td>\n",
              "      <td>0.2</td>\n",
              "      <td>Iris-setosa</td>\n",
              "    </tr>\n",
              "    <tr>\n",
              "      <th>4</th>\n",
              "      <td>5.0</td>\n",
              "      <td>3.6</td>\n",
              "      <td>1.4</td>\n",
              "      <td>0.2</td>\n",
              "      <td>Iris-setosa</td>\n",
              "    </tr>\n",
              "  </tbody>\n",
              "</table>\n",
              "</div>\n",
              "      <button class=\"colab-df-convert\" onclick=\"convertToInteractive('df-a4985a4f-9974-4900-8b71-0684cc7219af')\"\n",
              "              title=\"Convert this dataframe to an interactive table.\"\n",
              "              style=\"display:none;\">\n",
              "        \n",
              "  <svg xmlns=\"http://www.w3.org/2000/svg\" height=\"24px\"viewBox=\"0 0 24 24\"\n",
              "       width=\"24px\">\n",
              "    <path d=\"M0 0h24v24H0V0z\" fill=\"none\"/>\n",
              "    <path d=\"M18.56 5.44l.94 2.06.94-2.06 2.06-.94-2.06-.94-.94-2.06-.94 2.06-2.06.94zm-11 1L8.5 8.5l.94-2.06 2.06-.94-2.06-.94L8.5 2.5l-.94 2.06-2.06.94zm10 10l.94 2.06.94-2.06 2.06-.94-2.06-.94-.94-2.06-.94 2.06-2.06.94z\"/><path d=\"M17.41 7.96l-1.37-1.37c-.4-.4-.92-.59-1.43-.59-.52 0-1.04.2-1.43.59L10.3 9.45l-7.72 7.72c-.78.78-.78 2.05 0 2.83L4 21.41c.39.39.9.59 1.41.59.51 0 1.02-.2 1.41-.59l7.78-7.78 2.81-2.81c.8-.78.8-2.07 0-2.86zM5.41 20L4 18.59l7.72-7.72 1.47 1.35L5.41 20z\"/>\n",
              "  </svg>\n",
              "      </button>\n",
              "      \n",
              "  <style>\n",
              "    .colab-df-container {\n",
              "      display:flex;\n",
              "      flex-wrap:wrap;\n",
              "      gap: 12px;\n",
              "    }\n",
              "\n",
              "    .colab-df-convert {\n",
              "      background-color: #E8F0FE;\n",
              "      border: none;\n",
              "      border-radius: 50%;\n",
              "      cursor: pointer;\n",
              "      display: none;\n",
              "      fill: #1967D2;\n",
              "      height: 32px;\n",
              "      padding: 0 0 0 0;\n",
              "      width: 32px;\n",
              "    }\n",
              "\n",
              "    .colab-df-convert:hover {\n",
              "      background-color: #E2EBFA;\n",
              "      box-shadow: 0px 1px 2px rgba(60, 64, 67, 0.3), 0px 1px 3px 1px rgba(60, 64, 67, 0.15);\n",
              "      fill: #174EA6;\n",
              "    }\n",
              "\n",
              "    [theme=dark] .colab-df-convert {\n",
              "      background-color: #3B4455;\n",
              "      fill: #D2E3FC;\n",
              "    }\n",
              "\n",
              "    [theme=dark] .colab-df-convert:hover {\n",
              "      background-color: #434B5C;\n",
              "      box-shadow: 0px 1px 3px 1px rgba(0, 0, 0, 0.15);\n",
              "      filter: drop-shadow(0px 1px 2px rgba(0, 0, 0, 0.3));\n",
              "      fill: #FFFFFF;\n",
              "    }\n",
              "  </style>\n",
              "\n",
              "      <script>\n",
              "        const buttonEl =\n",
              "          document.querySelector('#df-a4985a4f-9974-4900-8b71-0684cc7219af button.colab-df-convert');\n",
              "        buttonEl.style.display =\n",
              "          google.colab.kernel.accessAllowed ? 'block' : 'none';\n",
              "\n",
              "        async function convertToInteractive(key) {\n",
              "          const element = document.querySelector('#df-a4985a4f-9974-4900-8b71-0684cc7219af');\n",
              "          const dataTable =\n",
              "            await google.colab.kernel.invokeFunction('convertToInteractive',\n",
              "                                                     [key], {});\n",
              "          if (!dataTable) return;\n",
              "\n",
              "          const docLinkHtml = 'Like what you see? Visit the ' +\n",
              "            '<a target=\"_blank\" href=https://colab.research.google.com/notebooks/data_table.ipynb>data table notebook</a>'\n",
              "            + ' to learn more about interactive tables.';\n",
              "          element.innerHTML = '';\n",
              "          dataTable['output_type'] = 'display_data';\n",
              "          await google.colab.output.renderOutput(dataTable, element);\n",
              "          const docLink = document.createElement('div');\n",
              "          docLink.innerHTML = docLinkHtml;\n",
              "          element.appendChild(docLink);\n",
              "        }\n",
              "      </script>\n",
              "    </div>\n",
              "  </div>\n",
              "  "
            ]
          },
          "metadata": {},
          "execution_count": 6
        }
      ]
    },
    {
      "cell_type": "markdown",
      "source": [
        "### EDA - finding insights from data"
      ],
      "metadata": {
        "id": "NMxd4_-ZlTuh"
      }
    },
    {
      "cell_type": "code",
      "source": [
        "df['Species'].unique()"
      ],
      "metadata": {
        "execution": {
          "iopub.status.busy": "2022-04-16T17:59:41.638723Z",
          "iopub.execute_input": "2022-04-16T17:59:41.639108Z",
          "iopub.status.idle": "2022-04-16T17:59:41.644967Z",
          "shell.execute_reply.started": "2022-04-16T17:59:41.639078Z",
          "shell.execute_reply": "2022-04-16T17:59:41.644110Z"
        },
        "trusted": true,
        "colab": {
          "base_uri": "https://localhost:8080/"
        },
        "id": "LLxD5R-ilTui",
        "outputId": "e1d35d16-7006-4ede-df07-a039bd3662ca"
      },
      "execution_count": 7,
      "outputs": [
        {
          "output_type": "execute_result",
          "data": {
            "text/plain": [
              "array(['Iris-setosa', 'Iris-versicolor', 'Iris-virginica'], dtype=object)"
            ]
          },
          "metadata": {},
          "execution_count": 7
        }
      ]
    },
    {
      "cell_type": "code",
      "source": [
        "# To visualize Sepal Length vs Sepal Width for all three species\n",
        "\n",
        "fig= df[df['Species']=='Iris-setosa'].plot(kind= 'scatter', x='SepalLengthCm', y='SepalWidthCm', \n",
        "                                           color='purple', label='Setosa')\n",
        "\n",
        "df[df['Species']=='Iris-versicolor'].plot(kind='scatter', x='SepalLengthCm' , y='SepalWidthCm', \n",
        "                                          color='red', label='Versicolor', ax=fig)\n",
        "\n",
        "df[df['Species']=='Iris-virginica'].plot(kind='scatter', x='SepalLengthCm' , y='SepalWidthCm', \n",
        "                                          color='green', label='Virginica', ax=fig)\n",
        "plt.style.use('seaborn-darkgrid')\n",
        "fig.set_title('Sepal Length vs Sepal Width')\n",
        "fig.set_xlabel('Sepal Length')\n",
        "fig.set_ylabel('Sepal Width')\n",
        "fig = plt.gcf()\n",
        "fig.set_size_inches(10,5)#--------------------> gcf() is get current figure\n",
        "plt.show()"
      ],
      "metadata": {
        "execution": {
          "iopub.status.busy": "2022-04-16T18:01:18.840156Z",
          "iopub.execute_input": "2022-04-16T18:01:18.840482Z",
          "iopub.status.idle": "2022-04-16T18:01:19.154460Z",
          "shell.execute_reply.started": "2022-04-16T18:01:18.840444Z",
          "shell.execute_reply": "2022-04-16T18:01:19.153811Z"
        },
        "trusted": true,
        "colab": {
          "base_uri": "https://localhost:8080/",
          "height": 345
        },
        "id": "X27jQRkalTui",
        "outputId": "5dc9eda2-fd8c-48ac-ce08-fb95d3019b54"
      },
      "execution_count": 31,
      "outputs": [
        {
          "output_type": "display_data",
          "data": {
            "text/plain": [
              "<Figure size 720x360 with 1 Axes>"
            ],
            "image/png": "[encoded data removed]"
          },
          "metadata": {}
        }
      ]
    },
    {
      "cell_type": "code",
      "source": [
        "# To visualize Petal Length vs Petal Width for all three species\n",
        "\n",
        "fig= df[df['Species']=='Iris-setosa'].plot(kind='scatter' , x='PetalLengthCm' , y='PetalWidthCm', \n",
        "                                          color='purple' , label='Setosa')\n",
        "\n",
        "df[df['Species']=='Iris-versicolor'].plot(kind='scatter' , x='PetalLengthCm' , y='PetalWidthCm',\n",
        "                                         color='red' , label='Versicolor' , ax=fig)\n",
        "\n",
        "df[df['Species']=='Iris-virginica'].plot(kind='scatter' , x='PetalLengthCm' , y='PetalWidthCm',\n",
        "                                         color='green' , label='Virginica' , ax=fig)\n",
        "plt.style.use('seaborn-darkgrid')\n",
        "fig.set_title('Petal Length vs Petal Width')\n",
        "fig.set_xlabel('Petal Length')\n",
        "fig.set_ylabel('Petal Width')\n",
        "fig=plt.gcf()\n",
        "fig.set_size_inches(10,5)\n",
        "plt.show()"
      ],
      "metadata": {
        "execution": {
          "iopub.status.busy": "2022-04-16T17:59:41.985761Z",
          "iopub.execute_input": "2022-04-16T17:59:41.985994Z",
          "iopub.status.idle": "2022-04-16T17:59:42.288272Z",
          "shell.execute_reply.started": "2022-04-16T17:59:41.985965Z",
          "shell.execute_reply": "2022-04-16T17:59:42.287571Z"
        },
        "trusted": true,
        "colab": {
          "base_uri": "https://localhost:8080/",
          "height": 345
        },
        "id": "7NU1HxFFlTuj",
        "outputId": "82c6e71d-a603-4fa0-a6a1-eae49083b716"
      },
      "execution_count": 9,
      "outputs": [
        {
          "output_type": "display_data",
          "data": {
            "text/plain": [
              "<Figure size 720x360 with 1 Axes>"
            ],
            "image/png": "[encoded data removed]"
          },
          "metadata": {}
        }
      ]
    },
    {
      "cell_type": "markdown",
      "source": [
        "**Let's observe the distribution of sepal & petal length and width**"
      ],
      "metadata": {
        "id": "tHhGhdz3lTuk"
      }
    },
    {
      "cell_type": "code",
      "source": [
        "df.hist(color='teal' , edgecolor='white' , linewidth=1.5)\n",
        "fig=plt.gcf()\n",
        "fig.set_size_inches(15,8)\n",
        "plt.show()"
      ],
      "metadata": {
        "execution": {
          "iopub.status.busy": "2022-04-16T17:59:42.290797Z",
          "iopub.execute_input": "2022-04-16T17:59:42.291216Z",
          "iopub.status.idle": "2022-04-16T17:59:42.908375Z",
          "shell.execute_reply.started": "2022-04-16T17:59:42.291184Z",
          "shell.execute_reply": "2022-04-16T17:59:42.907379Z"
        },
        "trusted": true,
        "colab": {
          "base_uri": "https://localhost:8080/",
          "height": 494
        },
        "id": "yQM8GGbllTul",
        "outputId": "135c6af6-6cc4-4e1e-d994-4c25d6947093"
      },
      "execution_count": 10,
      "outputs": [
        {
          "output_type": "display_data",
          "data": {
            "text/plain": [
              "<Figure size 1080x576 with 4 Axes>"
            ],
            "image/png": "[encoded data removed]"
          },
          "metadata": {}
        }
      ]
    },
    {
      "cell_type": "markdown",
      "source": [
        "**Now let's visualize the species wise distribution of sepal and petal length & witdth**"
      ],
      "metadata": {
        "id": "fkqeANi6lTum"
      }
    },
    {
      "cell_type": "code",
      "source": [
        "plt.figure(figsize=(14,8))\n",
        "plt.subplot(2,2,1)\n",
        "sns.stripplot(x='Species' , y='PetalLengthCm', data=df, palette='magma')\n",
        "plt.subplot(2,2,2)\n",
        "sns.stripplot(x='Species' , y='PetalWidthCm', data=df, palette='magma')\n",
        "plt.subplot(2,2,3)\n",
        "sns.stripplot(x='Species' , y='SepalLengthCm', data=df, palette='magma')\n",
        "plt.subplot(2,2,4)\n",
        "sns.stripplot(x='Species' , y='SepalWidthCm', data=df, palette='magma')\n",
        "plt.show()"
      ],
      "metadata": {
        "execution": {
          "iopub.status.busy": "2022-04-16T17:59:42.909714Z",
          "iopub.execute_input": "2022-04-16T17:59:42.910010Z",
          "iopub.status.idle": "2022-04-16T17:59:43.402916Z",
          "shell.execute_reply.started": "2022-04-16T17:59:42.909970Z",
          "shell.execute_reply": "2022-04-16T17:59:43.402025Z"
        },
        "trusted": true,
        "colab": {
          "base_uri": "https://localhost:8080/",
          "height": 493
        },
        "id": "7rP7NpIslTum",
        "outputId": "9c535881-a42c-4dbc-d038-9d99c329b57a"
      },
      "execution_count": 11,
      "outputs": [
        {
          "output_type": "display_data",
          "data": {
            "text/plain": [
              "<Figure size 1008x576 with 4 Axes>"
            ],
            "image/png": "[encoded data removed]"
          },
          "metadata": {}
        }
      ]
    },
    {
      "cell_type": "markdown",
      "source": [
        " > **We can also use violinplot instead of stripplot to view a kernel density estimate. Just replace the strip with violin**"
      ],
      "metadata": {
        "id": "7CWo4fZKlTun"
      }
    },
    {
      "cell_type": "markdown",
      "source": [
        "### Prediction using ML\n",
        "**After the EDA now we will begin with ML modeling and with every model we have to check the accuracy**\n",
        "Here we will use 4 algorithms:-\n",
        "\n",
        "* K-Nearest Neighbors\n",
        "* Decision Trees\n",
        "* Support Vector Machine\n",
        "* Logistic Regression"
      ],
      "metadata": {
        "id": "S_xE4sJdlTun"
      }
    },
    {
      "cell_type": "code",
      "source": [
        "# First lets import relevant libraries\n",
        "\n",
        "from sklearn import preprocessing \n",
        "from sklearn.model_selection import train_test_split\n",
        "from sklearn.neighbors import KNeighborsClassifier\n",
        "from sklearn.tree import DecisionTreeClassifier\n",
        "from sklearn.svm import SVC\n",
        "from sklearn.linear_model import LogisticRegression\n",
        "from sklearn.metrics import accuracy_score"
      ],
      "metadata": {
        "execution": {
          "iopub.status.busy": "2022-04-16T17:59:43.404084Z",
          "iopub.execute_input": "2022-04-16T17:59:43.404394Z",
          "iopub.status.idle": "2022-04-16T17:59:43.928029Z",
          "shell.execute_reply.started": "2022-04-16T17:59:43.404358Z",
          "shell.execute_reply": "2022-04-16T17:59:43.926599Z"
        },
        "trusted": true,
        "id": "1H_XLPFklTuo"
      },
      "execution_count": 12,
      "outputs": []
    },
    {
      "cell_type": "code",
      "source": [
        "# Let's have a look at the correlation matrix to understand correlation between features\n",
        "\n",
        "plt.figure(figsize=(7,5))\n",
        "sns.heatmap(df.corr() , annot=True, cmap='cubehelix_r')\n",
        "plt.show()"
      ],
      "metadata": {
        "execution": {
          "iopub.status.busy": "2022-04-16T17:59:43.930066Z",
          "iopub.execute_input": "2022-04-16T17:59:43.930475Z",
          "iopub.status.idle": "2022-04-16T17:59:44.235787Z",
          "shell.execute_reply.started": "2022-04-16T17:59:43.930422Z",
          "shell.execute_reply": "2022-04-16T17:59:44.234776Z"
        },
        "trusted": true,
        "colab": {
          "base_uri": "https://localhost:8080/",
          "height": 320
        },
        "id": "-2B5vxvJlTup",
        "outputId": "c5a3888b-9086-45b5-9d16-2a25d78b8e45"
      },
      "execution_count": 13,
      "outputs": [
        {
          "output_type": "display_data",
          "data": {
            "text/plain": [
              "<Figure size 504x360 with 2 Axes>"
            ],
            "image/png": "[encoded data removed]"
          },
          "metadata": {}
        }
      ]
    },
    {
      "cell_type": "markdown",
      "source": [
        "**We observe that the feautures Sepal length and Sepal width are not correlated whereas the Petal length & width are highly correlated**"
      ],
      "metadata": {
        "id": "1ZXpqjAvlTup"
      }
    },
    {
      "cell_type": "markdown",
      "source": [
        "> * To start with modeling, we first split the data into traindata and test data.\n",
        "> * The train data is used to train the model\n",
        "> * The test data is used to test the accuracy of the model created\n",
        "> * We need to start with feature selection first"
      ],
      "metadata": {
        "id": "kLuSOXvElTuq"
      }
    },
    {
      "cell_type": "code",
      "source": [
        "X = df[['SepalLengthCm','SepalWidthCm','PetalLengthCm','PetalWidthCm']]\n",
        "y = df[['Species']]"
      ],
      "metadata": {
        "execution": {
          "iopub.status.busy": "2022-04-16T17:59:44.237198Z",
          "iopub.execute_input": "2022-04-16T17:59:44.238042Z",
          "iopub.status.idle": "2022-04-16T17:59:44.244672Z",
          "shell.execute_reply.started": "2022-04-16T17:59:44.237990Z",
          "shell.execute_reply": "2022-04-16T17:59:44.243737Z"
        },
        "trusted": true,
        "id": "fxI-OwualTuq"
      },
      "execution_count": 14,
      "outputs": []
    },
    {
      "cell_type": "code",
      "source": [
        "X_train, X_test, y_train, y_test = train_test_split(X, y , test_size=0.3, random_state=2)\n",
        "\n",
        "print(X_train.shape)\n",
        "print(X_test.shape)\n",
        "print(y_train.shape)\n",
        "print(y_test.shape)"
      ],
      "metadata": {
        "execution": {
          "iopub.status.busy": "2022-04-16T17:59:44.246017Z",
          "iopub.execute_input": "2022-04-16T17:59:44.246830Z",
          "iopub.status.idle": "2022-04-16T17:59:44.262483Z",
          "shell.execute_reply.started": "2022-04-16T17:59:44.246778Z",
          "shell.execute_reply": "2022-04-16T17:59:44.261544Z"
        },
        "trusted": true,
        "colab": {
          "base_uri": "https://localhost:8080/"
        },
        "id": "k2htULe4lTuq",
        "outputId": "52ae9d72-1eec-4963-e16a-abce6ef5c18a"
      },
      "execution_count": 15,
      "outputs": [
        {
          "output_type": "stream",
          "name": "stdout",
          "text": [
            "(105, 4)\n",
            "(45, 4)\n",
            "(105, 1)\n",
            "(45, 1)\n"
          ]
        }
      ]
    },
    {
      "cell_type": "code",
      "source": [
        "X_train.head()"
      ],
      "metadata": {
        "execution": {
          "iopub.status.busy": "2022-04-16T17:59:44.264038Z",
          "iopub.execute_input": "2022-04-16T17:59:44.264664Z",
          "iopub.status.idle": "2022-04-16T17:59:44.287638Z",
          "shell.execute_reply.started": "2022-04-16T17:59:44.264613Z",
          "shell.execute_reply": "2022-04-16T17:59:44.286489Z"
        },
        "trusted": true,
        "colab": {
          "base_uri": "https://localhost:8080/",
          "height": 206
        },
        "id": "0MK6_4h1lTur",
        "outputId": "9bc23dcc-91fc-4549-b1b3-c5acb0b7d669"
      },
      "execution_count": 16,
      "outputs": [
        {
          "output_type": "execute_result",
          "data": {
            "text/plain": [
              "     SepalLengthCm  SepalWidthCm  PetalLengthCm  PetalWidthCm\n",
              "134            6.1           2.6            5.6           1.4\n",
              "28             5.2           3.4            1.4           0.2\n",
              "65             6.7           3.1            4.4           1.4\n",
              "0              5.1           3.5            1.4           0.2\n",
              "27             5.2           3.5            1.5           0.2"
            ],
            "text/html": [
              "\n",
              "  <div id=\"df-076bf688-cfb9-4343-afd4-13a7feda07c9\">\n",
              "    <div class=\"colab-df-container\">\n",
              "      <div>\n",
              "<style scoped>\n",
              "    .dataframe tbody tr th:only-of-type {\n",
              "        vertical-align: middle;\n",
              "    }\n",
              "\n",
              "    .dataframe tbody tr th {\n",
              "        vertical-align: top;\n",
              "    }\n",
              "\n",
              "    .dataframe thead th {\n",
              "        text-align: right;\n",
              "    }\n",
              "</style>\n",
              "<table border=\"1\" class=\"dataframe\">\n",
              "  <thead>\n",
              "    <tr style=\"text-align: right;\">\n",
              "      <th></th>\n",
              "      <th>SepalLengthCm</th>\n",
              "      <th>SepalWidthCm</th>\n",
              "      <th>PetalLengthCm</th>\n",
              "      <th>PetalWidthCm</th>\n",
              "    </tr>\n",
              "  </thead>\n",
              "  <tbody>\n",
              "    <tr>\n",
              "      <th>134</th>\n",
              "      <td>6.1</td>\n",
              "      <td>2.6</td>\n",
              "      <td>5.6</td>\n",
              "      <td>1.4</td>\n",
              "    </tr>\n",
              "    <tr>\n",
              "      <th>28</th>\n",
              "      <td>5.2</td>\n",
              "      <td>3.4</td>\n",
              "      <td>1.4</td>\n",
              "      <td>0.2</td>\n",
              "    </tr>\n",
              "    <tr>\n",
              "      <th>65</th>\n",
              "      <td>6.7</td>\n",
              "      <td>3.1</td>\n",
              "      <td>4.4</td>\n",
              "      <td>1.4</td>\n",
              "    </tr>\n",
              "    <tr>\n",
              "      <th>0</th>\n",
              "      <td>5.1</td>\n",
              "      <td>3.5</td>\n",
              "      <td>1.4</td>\n",
              "      <td>0.2</td>\n",
              "    </tr>\n",
              "    <tr>\n",
              "      <th>27</th>\n",
              "      <td>5.2</td>\n",
              "      <td>3.5</td>\n",
              "      <td>1.5</td>\n",
              "      <td>0.2</td>\n",
              "    </tr>\n",
              "  </tbody>\n",
              "</table>\n",
              "</div>\n",
              "      <button class=\"colab-df-convert\" onclick=\"convertToInteractive('df-076bf688-cfb9-4343-afd4-13a7feda07c9')\"\n",
              "              title=\"Convert this dataframe to an interactive table.\"\n",
              "              style=\"display:none;\">\n",
              "        \n",
              "  <svg xmlns=\"http://www.w3.org/2000/svg\" height=\"24px\"viewBox=\"0 0 24 24\"\n",
              "       width=\"24px\">\n",
              "    <path d=\"M0 0h24v24H0V0z\" fill=\"none\"/>\n",
              "    <path d=\"M18.56 5.44l.94 2.06.94-2.06 2.06-.94-2.06-.94-.94-2.06-.94 2.06-2.06.94zm-11 1L8.5 8.5l.94-2.06 2.06-.94-2.06-.94L8.5 2.5l-.94 2.06-2.06.94zm10 10l.94 2.06.94-2.06 2.06-.94-2.06-.94-.94-2.06-.94 2.06-2.06.94z\"/><path d=\"M17.41 7.96l-1.37-1.37c-.4-.4-.92-.59-1.43-.59-.52 0-1.04.2-1.43.59L10.3 9.45l-7.72 7.72c-.78.78-.78 2.05 0 2.83L4 21.41c.39.39.9.59 1.41.59.51 0 1.02-.2 1.41-.59l7.78-7.78 2.81-2.81c.8-.78.8-2.07 0-2.86zM5.41 20L4 18.59l7.72-7.72 1.47 1.35L5.41 20z\"/>\n",
              "  </svg>\n",
              "      </button>\n",
              "      \n",
              "  <style>\n",
              "    .colab-df-container {\n",
              "      display:flex;\n",
              "      flex-wrap:wrap;\n",
              "      gap: 12px;\n",
              "    }\n",
              "\n",
              "    .colab-df-convert {\n",
              "      background-color: #E8F0FE;\n",
              "      border: none;\n",
              "      border-radius: 50%;\n",
              "      cursor: pointer;\n",
              "      display: none;\n",
              "      fill: #1967D2;\n",
              "      height: 32px;\n",
              "      padding: 0 0 0 0;\n",
              "      width: 32px;\n",
              "    }\n",
              "\n",
              "    .colab-df-convert:hover {\n",
              "      background-color: #E2EBFA;\n",
              "      box-shadow: 0px 1px 2px rgba(60, 64, 67, 0.3), 0px 1px 3px 1px rgba(60, 64, 67, 0.15);\n",
              "      fill: #174EA6;\n",
              "    }\n",
              "\n",
              "    [theme=dark] .colab-df-convert {\n",
              "      background-color: #3B4455;\n",
              "      fill: #D2E3FC;\n",
              "    }\n",
              "\n",
              "    [theme=dark] .colab-df-convert:hover {\n",
              "      background-color: #434B5C;\n",
              "      box-shadow: 0px 1px 3px 1px rgba(0, 0, 0, 0.15);\n",
              "      filter: drop-shadow(0px 1px 2px rgba(0, 0, 0, 0.3));\n",
              "      fill: #FFFFFF;\n",
              "    }\n",
              "  </style>\n",
              "\n",
              "      <script>\n",
              "        const buttonEl =\n",
              "          document.querySelector('#df-076bf688-cfb9-4343-afd4-13a7feda07c9 button.colab-df-convert');\n",
              "        buttonEl.style.display =\n",
              "          google.colab.kernel.accessAllowed ? 'block' : 'none';\n",
              "\n",
              "        async function convertToInteractive(key) {\n",
              "          const element = document.querySelector('#df-076bf688-cfb9-4343-afd4-13a7feda07c9');\n",
              "          const dataTable =\n",
              "            await google.colab.kernel.invokeFunction('convertToInteractive',\n",
              "                                                     [key], {});\n",
              "          if (!dataTable) return;\n",
              "\n",
              "          const docLinkHtml = 'Like what you see? Visit the ' +\n",
              "            '<a target=\"_blank\" href=https://colab.research.google.com/notebooks/data_table.ipynb>data table notebook</a>'\n",
              "            + ' to learn more about interactive tables.';\n",
              "          element.innerHTML = '';\n",
              "          dataTable['output_type'] = 'display_data';\n",
              "          await google.colab.output.renderOutput(dataTable, element);\n",
              "          const docLink = document.createElement('div');\n",
              "          docLink.innerHTML = docLinkHtml;\n",
              "          element.appendChild(docLink);\n",
              "        }\n",
              "      </script>\n",
              "    </div>\n",
              "  </div>\n",
              "  "
            ]
          },
          "metadata": {},
          "execution_count": 16
        }
      ]
    },
    {
      "cell_type": "code",
      "source": [
        "y_test.head()"
      ],
      "metadata": {
        "execution": {
          "iopub.status.busy": "2022-04-16T17:59:44.289088Z",
          "iopub.execute_input": "2022-04-16T17:59:44.290090Z",
          "iopub.status.idle": "2022-04-16T17:59:44.305083Z",
          "shell.execute_reply.started": "2022-04-16T17:59:44.290039Z",
          "shell.execute_reply": "2022-04-16T17:59:44.304225Z"
        },
        "trusted": true,
        "colab": {
          "base_uri": "https://localhost:8080/",
          "height": 206
        },
        "id": "ov78UB_zlTur",
        "outputId": "265fd4f4-8521-4e03-e783-e24a92e2b522"
      },
      "execution_count": 17,
      "outputs": [
        {
          "output_type": "execute_result",
          "data": {
            "text/plain": [
              "            Species\n",
              "6       Iris-setosa\n",
              "3       Iris-setosa\n",
              "113  Iris-virginica\n",
              "12      Iris-setosa\n",
              "24      Iris-setosa"
            ],
            "text/html": [
              "\n",
              "  <div id=\"df-60d69556-0bd3-43cd-8926-2d71ac3a2552\">\n",
              "    <div class=\"colab-df-container\">\n",
              "      <div>\n",
              "<style scoped>\n",
              "    .dataframe tbody tr th:only-of-type {\n",
              "        vertical-align: middle;\n",
              "    }\n",
              "\n",
              "    .dataframe tbody tr th {\n",
              "        vertical-align: top;\n",
              "    }\n",
              "\n",
              "    .dataframe thead th {\n",
              "        text-align: right;\n",
              "    }\n",
              "</style>\n",
              "<table border=\"1\" class=\"dataframe\">\n",
              "  <thead>\n",
              "    <tr style=\"text-align: right;\">\n",
              "      <th></th>\n",
              "      <th>Species</th>\n",
              "    </tr>\n",
              "  </thead>\n",
              "  <tbody>\n",
              "    <tr>\n",
              "      <th>6</th>\n",
              "      <td>Iris-setosa</td>\n",
              "    </tr>\n",
              "    <tr>\n",
              "      <th>3</th>\n",
              "      <td>Iris-setosa</td>\n",
              "    </tr>\n",
              "    <tr>\n",
              "      <th>113</th>\n",
              "      <td>Iris-virginica</td>\n",
              "    </tr>\n",
              "    <tr>\n",
              "      <th>12</th>\n",
              "      <td>Iris-setosa</td>\n",
              "    </tr>\n",
              "    <tr>\n",
              "      <th>24</th>\n",
              "      <td>Iris-setosa</td>\n",
              "    </tr>\n",
              "  </tbody>\n",
              "</table>\n",
              "</div>\n",
              "      <button class=\"colab-df-convert\" onclick=\"convertToInteractive('df-60d69556-0bd3-43cd-8926-2d71ac3a2552')\"\n",
              "              title=\"Convert this dataframe to an interactive table.\"\n",
              "              style=\"display:none;\">\n",
              "        \n",
              "  <svg xmlns=\"http://www.w3.org/2000/svg\" height=\"24px\"viewBox=\"0 0 24 24\"\n",
              "       width=\"24px\">\n",
              "    <path d=\"M0 0h24v24H0V0z\" fill=\"none\"/>\n",
              "    <path d=\"M18.56 5.44l.94 2.06.94-2.06 2.06-.94-2.06-.94-.94-2.06-.94 2.06-2.06.94zm-11 1L8.5 8.5l.94-2.06 2.06-.94-2.06-.94L8.5 2.5l-.94 2.06-2.06.94zm10 10l.94 2.06.94-2.06 2.06-.94-2.06-.94-.94-2.06-.94 2.06-2.06.94z\"/><path d=\"M17.41 7.96l-1.37-1.37c-.4-.4-.92-.59-1.43-.59-.52 0-1.04.2-1.43.59L10.3 9.45l-7.72 7.72c-.78.78-.78 2.05 0 2.83L4 21.41c.39.39.9.59 1.41.59.51 0 1.02-.2 1.41-.59l7.78-7.78 2.81-2.81c.8-.78.8-2.07 0-2.86zM5.41 20L4 18.59l7.72-7.72 1.47 1.35L5.41 20z\"/>\n",
              "  </svg>\n",
              "      </button>\n",
              "      \n",
              "  <style>\n",
              "    .colab-df-container {\n",
              "      display:flex;\n",
              "      flex-wrap:wrap;\n",
              "      gap: 12px;\n",
              "    }\n",
              "\n",
              "    .colab-df-convert {\n",
              "      background-color: #E8F0FE;\n",
              "      border: none;\n",
              "      border-radius: 50%;\n",
              "      cursor: pointer;\n",
              "      display: none;\n",
              "      fill: #1967D2;\n",
              "      height: 32px;\n",
              "      padding: 0 0 0 0;\n",
              "      width: 32px;\n",
              "    }\n",
              "\n",
              "    .colab-df-convert:hover {\n",
              "      background-color: #E2EBFA;\n",
              "      box-shadow: 0px 1px 2px rgba(60, 64, 67, 0.3), 0px 1px 3px 1px rgba(60, 64, 67, 0.15);\n",
              "      fill: #174EA6;\n",
              "    }\n",
              "\n",
              "    [theme=dark] .colab-df-convert {\n",
              "      background-color: #3B4455;\n",
              "      fill: #D2E3FC;\n",
              "    }\n",
              "\n",
              "    [theme=dark] .colab-df-convert:hover {\n",
              "      background-color: #434B5C;\n",
              "      box-shadow: 0px 1px 3px 1px rgba(0, 0, 0, 0.15);\n",
              "      filter: drop-shadow(0px 1px 2px rgba(0, 0, 0, 0.3));\n",
              "      fill: #FFFFFF;\n",
              "    }\n",
              "  </style>\n",
              "\n",
              "      <script>\n",
              "        const buttonEl =\n",
              "          document.querySelector('#df-60d69556-0bd3-43cd-8926-2d71ac3a2552 button.colab-df-convert');\n",
              "        buttonEl.style.display =\n",
              "          google.colab.kernel.accessAllowed ? 'block' : 'none';\n",
              "\n",
              "        async function convertToInteractive(key) {\n",
              "          const element = document.querySelector('#df-60d69556-0bd3-43cd-8926-2d71ac3a2552');\n",
              "          const dataTable =\n",
              "            await google.colab.kernel.invokeFunction('convertToInteractive',\n",
              "                                                     [key], {});\n",
              "          if (!dataTable) return;\n",
              "\n",
              "          const docLinkHtml = 'Like what you see? Visit the ' +\n",
              "            '<a target=\"_blank\" href=https://colab.research.google.com/notebooks/data_table.ipynb>data table notebook</a>'\n",
              "            + ' to learn more about interactive tables.';\n",
              "          element.innerHTML = '';\n",
              "          dataTable['output_type'] = 'display_data';\n",
              "          await google.colab.output.renderOutput(dataTable, element);\n",
              "          const docLink = document.createElement('div');\n",
              "          docLink.innerHTML = docLinkHtml;\n",
              "          element.appendChild(docLink);\n",
              "        }\n",
              "      </script>\n",
              "    </div>\n",
              "  </div>\n",
              "  "
            ]
          },
          "metadata": {},
          "execution_count": 17
        }
      ]
    },
    {
      "cell_type": "code",
      "source": [
        "KNN = KNeighborsClassifier(n_neighbors=4)     #--------------> define an object of algorithm   \n",
        "KNN.fit(X_train , y_train)       #--------------> to fit/train the model\n",
        "yhat = KNN.predict(X_test)       #--------------> store predicted value as yhat \n",
        "                                 #--------------> now to check the accuracy of the model\n",
        "print('Accuracy of K Nearest Neighbors model is:- ', accuracy_score(yhat, y_test))\n",
        "print('-------------------------------------------------')"
      ],
      "metadata": {
        "execution": {
          "iopub.status.busy": "2022-04-16T17:59:44.306134Z",
          "iopub.execute_input": "2022-04-16T17:59:44.306651Z",
          "iopub.status.idle": "2022-04-16T17:59:44.334581Z",
          "shell.execute_reply.started": "2022-04-16T17:59:44.306601Z",
          "shell.execute_reply": "2022-04-16T17:59:44.333849Z"
        },
        "trusted": true,
        "colab": {
          "base_uri": "https://localhost:8080/"
        },
        "id": "6ONSM87LlTus",
        "outputId": "1176172c-5d08-4031-e3af-e9809ab47fa1"
      },
      "execution_count": 18,
      "outputs": [
        {
          "output_type": "stream",
          "name": "stdout",
          "text": [
            "Accuracy of K Nearest Neighbors model is:-  1.0\n",
            "-------------------------------------------------\n"
          ]
        },
        {
          "output_type": "stream",
          "name": "stderr",
          "text": [
            "/usr/local/lib/python3.7/dist-packages/sklearn/neighbors/_classification.py:198: DataConversionWarning: A column-vector y was passed when a 1d array was expected. Please change the shape of y to (n_samples,), for example using ravel().\n",
            "  return self._fit(X, y)\n"
          ]
        }
      ]
    },
    {
      "cell_type": "code",
      "source": [
        "tree = DecisionTreeClassifier()     #--------------> define an object of algorithm   \n",
        "tree.fit(X_train , y_train)       #--------------> to fit/train the model\n",
        "yhat = tree.predict(X_test)       #--------------> store predicted value as yhat \n",
        "                                 #--------------> now to check the accuracy of the model\n",
        "print('Accuracy of Decision Tree model is:- ', accuracy_score(yhat, y_test))\n",
        "print('-------------------------------------------------')"
      ],
      "metadata": {
        "execution": {
          "iopub.status.busy": "2022-04-16T17:59:44.335969Z",
          "iopub.execute_input": "2022-04-16T17:59:44.336217Z",
          "iopub.status.idle": "2022-04-16T17:59:44.350389Z",
          "shell.execute_reply.started": "2022-04-16T17:59:44.336178Z",
          "shell.execute_reply": "2022-04-16T17:59:44.349254Z"
        },
        "trusted": true,
        "colab": {
          "base_uri": "https://localhost:8080/"
        },
        "id": "BwrQfq2MlTus",
        "outputId": "0d1db167-1cef-4385-b069-a31eb6b759ba"
      },
      "execution_count": 19,
      "outputs": [
        {
          "output_type": "stream",
          "name": "stdout",
          "text": [
            "Accuracy of Decision Tree model is:-  0.9555555555555556\n",
            "-------------------------------------------------\n"
          ]
        }
      ]
    },
    {
      "cell_type": "code",
      "source": [
        "svm = SVC()                        \n",
        "svm.fit(X_train , y_train)        \n",
        "yhat = svm.predict(X_test)        \n",
        "                                  \n",
        "print('Accuracy of SVM model is:- ', accuracy_score(yhat, y_test))\n",
        "print('-------------------------------------------------')"
      ],
      "metadata": {
        "execution": {
          "iopub.status.busy": "2022-04-16T17:59:44.352045Z",
          "iopub.execute_input": "2022-04-16T17:59:44.352588Z",
          "iopub.status.idle": "2022-04-16T17:59:44.371451Z",
          "shell.execute_reply.started": "2022-04-16T17:59:44.352528Z",
          "shell.execute_reply": "2022-04-16T17:59:44.370170Z"
        },
        "trusted": true,
        "colab": {
          "base_uri": "https://localhost:8080/"
        },
        "id": "KmiTXjd1lTus",
        "outputId": "64fab499-f308-4da0-e07a-82ae4d570980"
      },
      "execution_count": 20,
      "outputs": [
        {
          "output_type": "stream",
          "name": "stdout",
          "text": [
            "Accuracy of SVM model is:-  0.9777777777777777\n",
            "-------------------------------------------------\n"
          ]
        },
        {
          "output_type": "stream",
          "name": "stderr",
          "text": [
            "/usr/local/lib/python3.7/dist-packages/sklearn/utils/validation.py:993: DataConversionWarning: A column-vector y was passed when a 1d array was expected. Please change the shape of y to (n_samples, ), for example using ravel().\n",
            "  y = column_or_1d(y, warn=True)\n"
          ]
        }
      ]
    },
    {
      "cell_type": "code",
      "source": [
        "LR = LogisticRegression()        \n",
        "LR.fit(X_train , y_train)        \n",
        "yhat = LR.predict(X_test)        \n",
        "                                \n",
        "print('Accuracy of Logistic Regression model is:- ', accuracy_score(yhat, y_test))\n",
        "print('-------------------------------------------------')"
      ],
      "metadata": {
        "execution": {
          "iopub.status.busy": "2022-04-16T17:59:44.372968Z",
          "iopub.execute_input": "2022-04-16T17:59:44.374011Z",
          "iopub.status.idle": "2022-04-16T17:59:44.431103Z",
          "shell.execute_reply.started": "2022-04-16T17:59:44.373959Z",
          "shell.execute_reply": "2022-04-16T17:59:44.430299Z"
        },
        "trusted": true,
        "colab": {
          "base_uri": "https://localhost:8080/"
        },
        "id": "G85wTz8olTut",
        "outputId": "f0a9f5b5-d3d4-4f4e-b811-fc46f7cf27d4"
      },
      "execution_count": 21,
      "outputs": [
        {
          "output_type": "stream",
          "name": "stderr",
          "text": [
            "/usr/local/lib/python3.7/dist-packages/sklearn/utils/validation.py:993: DataConversionWarning: A column-vector y was passed when a 1d array was expected. Please change the shape of y to (n_samples, ), for example using ravel().\n",
            "  y = column_or_1d(y, warn=True)\n"
          ]
        },
        {
          "output_type": "stream",
          "name": "stdout",
          "text": [
            "Accuracy of Logistic Regression model is:-  0.9777777777777777\n",
            "-------------------------------------------------\n"
          ]
        },
        {
          "output_type": "stream",
          "name": "stderr",
          "text": [
            "/usr/local/lib/python3.7/dist-packages/sklearn/linear_model/_logistic.py:818: ConvergenceWarning: lbfgs failed to converge (status=1):\n",
            "STOP: TOTAL NO. of ITERATIONS REACHED LIMIT.\n",
            "\n",
            "Increase the number of iterations (max_iter) or scale the data as shown in:\n",
            "    https://scikit-learn.org/stable/modules/preprocessing.html\n",
            "Please also refer to the documentation for alternative solver options:\n",
            "    https://scikit-learn.org/stable/modules/linear_model.html#logistic-regression\n",
            "  extra_warning_msg=_LOGISTIC_SOLVER_CONVERGENCE_MSG,\n"
          ]
        }
      ]
    },
    {
      "cell_type": "markdown",
      "source": [
        "**Let's check the accuracy for various values of n for K-Nearest nerighbours**"
      ],
      "metadata": {
        "id": "15lPbfI8lTut"
      }
    },
    {
      "cell_type": "code",
      "source": [
        "index= list(range(1,11))\n",
        "s = pd.Series()\n",
        "x = [1,2,3,4,5,6,7,8,9,10]\n",
        "\n",
        "for i in index:\n",
        "    knn = KNeighborsClassifier(n_neighbors=i)\n",
        "    knn.fit(X_train,y_train)\n",
        "    yhat = knn.predict(X_test)\n",
        "    s= s.append(pd.Series(accuracy_score(yhat , y_test)))\n",
        "    \n",
        "plt.plot(index,s)\n",
        "plt.xticks(x)"
      ],
      "metadata": {
        "execution": {
          "iopub.status.busy": "2022-04-16T17:59:44.432318Z",
          "iopub.execute_input": "2022-04-16T17:59:44.432545Z",
          "iopub.status.idle": "2022-04-16T17:59:44.725212Z",
          "shell.execute_reply.started": "2022-04-16T17:59:44.432517Z",
          "shell.execute_reply": "2022-04-16T17:59:44.724340Z"
        },
        "trusted": true,
        "colab": {
          "base_uri": "https://localhost:8080/",
          "height": 855
        },
        "id": "X7I-tb-6lTut",
        "outputId": "38adc5aa-4ae3-4af7-ee3e-1459d285ace4"
      },
      "execution_count": 22,
      "outputs": [
        {
          "output_type": "stream",
          "name": "stderr",
          "text": [
            "/usr/local/lib/python3.7/dist-packages/ipykernel_launcher.py:2: DeprecationWarning: The default dtype for empty Series will be 'object' instead of 'float64' in a future version. Specify a dtype explicitly to silence this warning.\n",
            "  \n",
            "/usr/local/lib/python3.7/dist-packages/sklearn/neighbors/_classification.py:198: DataConversionWarning: A column-vector y was passed when a 1d array was expected. Please change the shape of y to (n_samples,), for example using ravel().\n",
            "  return self._fit(X, y)\n",
            "/usr/local/lib/python3.7/dist-packages/sklearn/neighbors/_classification.py:198: DataConversionWarning: A column-vector y was passed when a 1d array was expected. Please change the shape of y to (n_samples,), for example using ravel().\n",
            "  return self._fit(X, y)\n",
            "/usr/local/lib/python3.7/dist-packages/sklearn/neighbors/_classification.py:198: DataConversionWarning: A column-vector y was passed when a 1d array was expected. Please change the shape of y to (n_samples,), for example using ravel().\n",
            "  return self._fit(X, y)\n",
            "/usr/local/lib/python3.7/dist-packages/sklearn/neighbors/_classification.py:198: DataConversionWarning: A column-vector y was passed when a 1d array was expected. Please change the shape of y to (n_samples,), for example using ravel().\n",
            "  return self._fit(X, y)\n",
            "/usr/local/lib/python3.7/dist-packages/sklearn/neighbors/_classification.py:198: DataConversionWarning: A column-vector y was passed when a 1d array was expected. Please change the shape of y to (n_samples,), for example using ravel().\n",
            "  return self._fit(X, y)\n",
            "/usr/local/lib/python3.7/dist-packages/sklearn/neighbors/_classification.py:198: DataConversionWarning: A column-vector y was passed when a 1d array was expected. Please change the shape of y to (n_samples,), for example using ravel().\n",
            "  return self._fit(X, y)\n",
            "/usr/local/lib/python3.7/dist-packages/sklearn/neighbors/_classification.py:198: DataConversionWarning: A column-vector y was passed when a 1d array was expected. Please change the shape of y to (n_samples,), for example using ravel().\n",
            "  return self._fit(X, y)\n",
            "/usr/local/lib/python3.7/dist-packages/sklearn/neighbors/_classification.py:198: DataConversionWarning: A column-vector y was passed when a 1d array was expected. Please change the shape of y to (n_samples,), for example using ravel().\n",
            "  return self._fit(X, y)\n",
            "/usr/local/lib/python3.7/dist-packages/sklearn/neighbors/_classification.py:198: DataConversionWarning: A column-vector y was passed when a 1d array was expected. Please change the shape of y to (n_samples,), for example using ravel().\n",
            "  return self._fit(X, y)\n",
            "/usr/local/lib/python3.7/dist-packages/sklearn/neighbors/_classification.py:198: DataConversionWarning: A column-vector y was passed when a 1d array was expected. Please change the shape of y to (n_samples,), for example using ravel().\n",
            "  return self._fit(X, y)\n"
          ]
        },
        {
          "output_type": "execute_result",
          "data": {
            "text/plain": [
              "([<matplotlib.axis.XTick at 0x7f5027a77a50>,\n",
              "  <matplotlib.axis.XTick at 0x7f5027a77a10>,\n",
              "  <matplotlib.axis.XTick at 0x7f5027a77690>,\n",
              "  <matplotlib.axis.XTick at 0x7f5027a237d0>,\n",
              "  <matplotlib.axis.XTick at 0x7f5027a23d10>,\n",
              "  <matplotlib.axis.XTick at 0x7f5027a29090>,\n",
              "  <matplotlib.axis.XTick at 0x7f5027a23650>,\n",
              "  <matplotlib.axis.XTick at 0x7f5027a292d0>,\n",
              "  <matplotlib.axis.XTick at 0x7f5027a29dd0>,\n",
              "  <matplotlib.axis.XTick at 0x7f5027a31350>],\n",
              " <a list of 10 Text major ticklabel objects>)"
            ]
          },
          "metadata": {},
          "execution_count": 22
        },
        {
          "output_type": "display_data",
          "data": {
            "text/plain": [
              "<Figure size 432x288 with 1 Axes>"
            ],
            "image/png": "[encoded data removed]"
          },
          "metadata": {}
        }
      ]
    },
    {
      "cell_type": "markdown",
      "source": [
        "**From above plot we see that KNN model has best accuracy for n=1 to 7, and for n=8 the accuracy drops considerably**\n",
        "\n",
        "Now lets create Petals and Sepals data from df and predict seperately"
      ],
      "metadata": {
        "id": "6BSjhvqBlTuu"
      }
    },
    {
      "cell_type": "code",
      "source": [
        "petals = df[['PetalLengthCm','PetalWidthCm','Species']]\n",
        "sepals = df[['SepalLengthCm','SepalWidthCm','Species']]"
      ],
      "metadata": {
        "execution": {
          "iopub.status.busy": "2022-04-16T17:59:44.726749Z",
          "iopub.execute_input": "2022-04-16T17:59:44.727142Z",
          "iopub.status.idle": "2022-04-16T17:59:44.735406Z",
          "shell.execute_reply.started": "2022-04-16T17:59:44.727098Z",
          "shell.execute_reply": "2022-04-16T17:59:44.734200Z"
        },
        "trusted": true,
        "id": "4P9BoZ5OlTuu"
      },
      "execution_count": 23,
      "outputs": []
    },
    {
      "cell_type": "code",
      "source": [
        "Xp = petals[['PetalLengthCm','PetalWidthCm']]\n",
        "yp = petals[['Species']]\n",
        "\n",
        "Xs = sepals[['SepalLengthCm','SepalWidthCm']]\n",
        "ys = sepals[['Species']]"
      ],
      "metadata": {
        "execution": {
          "iopub.status.busy": "2022-04-16T17:59:44.736893Z",
          "iopub.execute_input": "2022-04-16T17:59:44.737248Z",
          "iopub.status.idle": "2022-04-16T17:59:44.756228Z",
          "shell.execute_reply.started": "2022-04-16T17:59:44.737206Z",
          "shell.execute_reply": "2022-04-16T17:59:44.755351Z"
        },
        "trusted": true,
        "id": "AwwYygLglTuv"
      },
      "execution_count": 24,
      "outputs": []
    },
    {
      "cell_type": "code",
      "source": [
        "Xp_train , Xp_test , yp_train , yp_test = train_test_split(Xp, yp , test_size=0.3, random_state=4)\n",
        "\n",
        "print(Xp_train.shape)\n",
        "print(yp_test.shape)\n",
        "print(Xp_test.shape)\n",
        "print(yp_train.shape)"
      ],
      "metadata": {
        "execution": {
          "iopub.status.busy": "2022-04-16T17:59:44.757799Z",
          "iopub.execute_input": "2022-04-16T17:59:44.758110Z",
          "iopub.status.idle": "2022-04-16T17:59:44.771772Z",
          "shell.execute_reply.started": "2022-04-16T17:59:44.758063Z",
          "shell.execute_reply": "2022-04-16T17:59:44.770996Z"
        },
        "trusted": true,
        "colab": {
          "base_uri": "https://localhost:8080/"
        },
        "id": "zdPWEVcKlTuv",
        "outputId": "853c594a-98f3-42ed-a75f-3194647bde92"
      },
      "execution_count": 25,
      "outputs": [
        {
          "output_type": "stream",
          "name": "stdout",
          "text": [
            "(105, 2)\n",
            "(45, 1)\n",
            "(45, 2)\n",
            "(105, 1)\n"
          ]
        }
      ]
    },
    {
      "cell_type": "code",
      "source": [
        "Xs_train , Xs_test , ys_train , ys_test = train_test_split(Xs , ys , test_size=0.3 , random_state=4)"
      ],
      "metadata": {
        "execution": {
          "iopub.status.busy": "2022-04-16T17:59:44.772709Z",
          "iopub.execute_input": "2022-04-16T17:59:44.772957Z",
          "iopub.status.idle": "2022-04-16T17:59:44.784567Z",
          "shell.execute_reply.started": "2022-04-16T17:59:44.772927Z",
          "shell.execute_reply": "2022-04-16T17:59:44.783848Z"
        },
        "trusted": true,
        "id": "-KAn-PDplTuw"
      },
      "execution_count": 26,
      "outputs": []
    },
    {
      "cell_type": "code",
      "source": [
        "# K nearest neighbors\n",
        "\n",
        "knn = KNeighborsClassifier(n_neighbors=4)\n",
        "knn.fit(Xp_train , yp_train)\n",
        "yhat = knn.predict(Xp_test)\n",
        "print('Accuracy score of K nearest neighbors using petals data:- ', accuracy_score(yhat, yp_test))\n",
        "\n",
        "knn = KNeighborsClassifier(n_neighbors=4)\n",
        "knn.fit(Xs_train , ys_train)\n",
        "yhat= knn.predict(Xs_test)\n",
        "print('Accuracy score of K nearest neighbors using sepals data:- ', accuracy_score(yhat, ys_test))\n",
        "print('-------------------------------------------------------------')"
      ],
      "metadata": {
        "execution": {
          "iopub.status.busy": "2022-04-16T17:59:44.786461Z",
          "iopub.execute_input": "2022-04-16T17:59:44.787197Z",
          "iopub.status.idle": "2022-04-16T17:59:44.818643Z",
          "shell.execute_reply.started": "2022-04-16T17:59:44.787149Z",
          "shell.execute_reply": "2022-04-16T17:59:44.817908Z"
        },
        "trusted": true,
        "colab": {
          "base_uri": "https://localhost:8080/"
        },
        "id": "12WSahOtlTuw",
        "outputId": "76a886d9-acef-4446-ad0a-b753889da94a"
      },
      "execution_count": 27,
      "outputs": [
        {
          "output_type": "stream",
          "name": "stdout",
          "text": [
            "Accuracy score of K nearest neighbors using petals data:-  0.9777777777777777\n",
            "Accuracy score of K nearest neighbors using sepals data:-  0.8\n",
            "-------------------------------------------------------------\n"
          ]
        },
        {
          "output_type": "stream",
          "name": "stderr",
          "text": [
            "/usr/local/lib/python3.7/dist-packages/sklearn/neighbors/_classification.py:198: DataConversionWarning: A column-vector y was passed when a 1d array was expected. Please change the shape of y to (n_samples,), for example using ravel().\n",
            "  return self._fit(X, y)\n",
            "/usr/local/lib/python3.7/dist-packages/sklearn/neighbors/_classification.py:198: DataConversionWarning: A column-vector y was passed when a 1d array was expected. Please change the shape of y to (n_samples,), for example using ravel().\n",
            "  return self._fit(X, y)\n"
          ]
        }
      ]
    },
    {
      "cell_type": "code",
      "source": [
        "# Decision Trees\n",
        "\n",
        "tree = DecisionTreeClassifier()\n",
        "tree.fit(Xp_train , yp_train)\n",
        "yhat = tree.predict(Xp_test)\n",
        "print('Accuracy score of Decision Trees using petals data:- ', accuracy_score(yhat, yp_test))\n",
        "\n",
        "tree= DecisionTreeClassifier()\n",
        "tree.fit(Xs_train , ys_train)\n",
        "yhat=tree.predict(Xs_test)\n",
        "print('Accuracy score of Decision Trees using sepals data:- ', accuracy_score(yhat, ys_test))\n",
        "print('------------------------------------------------------------')"
      ],
      "metadata": {
        "execution": {
          "iopub.status.busy": "2022-04-16T17:59:44.822216Z",
          "iopub.execute_input": "2022-04-16T17:59:44.822863Z",
          "iopub.status.idle": "2022-04-16T17:59:44.842192Z",
          "shell.execute_reply.started": "2022-04-16T17:59:44.822831Z",
          "shell.execute_reply": "2022-04-16T17:59:44.841346Z"
        },
        "trusted": true,
        "colab": {
          "base_uri": "https://localhost:8080/"
        },
        "id": "2N5YXFd1lTuw",
        "outputId": "b64111b2-afbb-4b94-a985-9070a5709a71"
      },
      "execution_count": 28,
      "outputs": [
        {
          "output_type": "stream",
          "name": "stdout",
          "text": [
            "Accuracy score of Decision Trees using petals data:-  0.9777777777777777\n",
            "Accuracy score of Decision Trees using sepals data:-  0.8\n",
            "------------------------------------------------------------\n"
          ]
        }
      ]
    },
    {
      "cell_type": "code",
      "source": [
        "# SVM\n",
        "\n",
        "svm = SVC()\n",
        "svm.fit(Xp_train , yp_train)\n",
        "yhat = svm.predict(Xp_test)\n",
        "print('Accuracy score of SVM using petals data:- ', accuracy_score(yhat, yp_test))\n",
        "\n",
        "svm=SVC()\n",
        "svm.fit(Xs_train , ys_train)\n",
        "yhat=svm.predict(Xs_test)\n",
        "print('Accuracy score of SVM using sepals data:- ', accuracy_score(yhat, ys_test))\n",
        "print('-------------------------------------------------')"
      ],
      "metadata": {
        "execution": {
          "iopub.status.busy": "2022-04-16T17:59:44.843234Z",
          "iopub.execute_input": "2022-04-16T17:59:44.843512Z",
          "iopub.status.idle": "2022-04-16T17:59:44.861041Z",
          "shell.execute_reply.started": "2022-04-16T17:59:44.843481Z",
          "shell.execute_reply": "2022-04-16T17:59:44.860457Z"
        },
        "trusted": true,
        "colab": {
          "base_uri": "https://localhost:8080/"
        },
        "id": "goU5Rl_PlTux",
        "outputId": "4acc7f4e-8947-40f9-8cc7-292daa9c5ba3"
      },
      "execution_count": 29,
      "outputs": [
        {
          "output_type": "stream",
          "name": "stdout",
          "text": [
            "Accuracy score of SVM using petals data:-  0.9777777777777777\n",
            "Accuracy score of SVM using sepals data:-  0.8666666666666667\n",
            "-------------------------------------------------\n"
          ]
        },
        {
          "output_type": "stream",
          "name": "stderr",
          "text": [
            "/usr/local/lib/python3.7/dist-packages/sklearn/utils/validation.py:993: DataConversionWarning: A column-vector y was passed when a 1d array was expected. Please change the shape of y to (n_samples, ), for example using ravel().\n",
            "  y = column_or_1d(y, warn=True)\n",
            "/usr/local/lib/python3.7/dist-packages/sklearn/utils/validation.py:993: DataConversionWarning: A column-vector y was passed when a 1d array was expected. Please change the shape of y to (n_samples, ), for example using ravel().\n",
            "  y = column_or_1d(y, warn=True)\n"
          ]
        }
      ]
    },
    {
      "cell_type": "code",
      "source": [
        "# Logistic Regression\n",
        "\n",
        "lr = LogisticRegression()\n",
        "lr.fit(Xp_train , yp_train)\n",
        "yhat = lr.predict(Xp_test)\n",
        "print('Accuracy score of Logistic Regression using petals data:- ', accuracy_score(yhat, yp_test))\n",
        "\n",
        "lr= LogisticRegression()\n",
        "lr.fit(Xs_train , ys_train)\n",
        "yhat=lr.predict(Xs_test)\n",
        "print('Accuracy score of Logistic Regression using sepals data:- ', accuracy_score(yhat, ys_test))\n",
        "print('-------------------------------------------------')"
      ],
      "metadata": {
        "execution": {
          "iopub.status.busy": "2022-04-16T17:59:44.862137Z",
          "iopub.execute_input": "2022-04-16T17:59:44.862938Z",
          "iopub.status.idle": "2022-04-16T17:59:44.915408Z",
          "shell.execute_reply.started": "2022-04-16T17:59:44.862894Z",
          "shell.execute_reply": "2022-04-16T17:59:44.914474Z"
        },
        "trusted": true,
        "colab": {
          "base_uri": "https://localhost:8080/"
        },
        "id": "i16ekFBplTux",
        "outputId": "9f4e21f5-274b-4eb4-be8b-aa147f311dab"
      },
      "execution_count": 30,
      "outputs": [
        {
          "output_type": "stream",
          "name": "stderr",
          "text": [
            "/usr/local/lib/python3.7/dist-packages/sklearn/utils/validation.py:993: DataConversionWarning: A column-vector y was passed when a 1d array was expected. Please change the shape of y to (n_samples, ), for example using ravel().\n",
            "  y = column_or_1d(y, warn=True)\n"
          ]
        },
        {
          "output_type": "stream",
          "name": "stdout",
          "text": [
            "Accuracy score of Logistic Regression using petals data:-  0.9777777777777777\n",
            "Accuracy score of Logistic Regression using sepals data:-  0.8444444444444444\n",
            "-------------------------------------------------\n"
          ]
        },
        {
          "output_type": "stream",
          "name": "stderr",
          "text": [
            "/usr/local/lib/python3.7/dist-packages/sklearn/utils/validation.py:993: DataConversionWarning: A column-vector y was passed when a 1d array was expected. Please change the shape of y to (n_samples, ), for example using ravel().\n",
            "  y = column_or_1d(y, warn=True)\n"
          ]
        }
      ]
    },
    {
      "cell_type": "markdown",
      "source": [
        "### Our observations are:-\n",
        "\n",
        "* Petals data gives a greater accuracy as compared to Sepals data\n",
        "* Above observation was likely as was observed from the earlier heatmap of correlation matrix\n",
        "* Out of the 4 models, KNN model has highest accuracy on both whole data and Petals-Sepals data"
      ],
      "metadata": {
        "id": "0_AKggL2lTuy"
      }
    },
    {
      "cell_type": "markdown",
      "source": [
        "Hope this notebook helps!!"
      ],
      "metadata": {
        "id": "hH34neE1lTuy"
      }
    }
  ]
}